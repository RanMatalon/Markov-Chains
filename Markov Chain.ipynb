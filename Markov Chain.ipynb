{
 "cells": [
  {
   "cell_type": "code",
   "execution_count": 81,
   "id": "bcb485d0-5f3f-413b-96b2-27b040eda0f8",
   "metadata": {},
   "outputs": [],
   "source": [
    "import random\n",
    "import numpy as np\n",
    "import matplotlib.pyplot as plt "
   ]
  },
  {
   "cell_type": "markdown",
   "id": "24745a25-02d6-4f34-8926-f2c1273a882a",
   "metadata": {},
   "source": [
    "# Defining the markov chain"
   ]
  },
  {
   "cell_type": "markdown",
   "id": "00dccc6a-6e46-443d-a0bb-7dded385528b",
   "metadata": {},
   "source": [
    "### Initializing the matrix (pij = the probability to move from i to j in single step)"
   ]
  },
  {
   "cell_type": "code",
   "execution_count": 60,
   "id": "c1235205-a8a0-40e2-a5ef-fd45d9371b31",
   "metadata": {},
   "outputs": [
    {
     "name": "stdout",
     "output_type": "stream",
     "text": [
      "[[0.19286546 0.80713454]\n",
      " [0.66891973 0.33108027]]\n"
     ]
    }
   ],
   "source": [
    "p00 = random.uniform(0,1) \n",
    "p10 = random.uniform(0,1)\n",
    "P=np.array([[p00,1-p00],[p10,1-p10]])\n",
    "print(P) # The matrix"
   ]
  },
  {
   "cell_type": "markdown",
   "id": "5e56cd3b-021f-498a-adb9-7c09e1f81c5e",
   "metadata": {},
   "source": [
    "# Repeting multiplying until convergence to the stationary probability"
   ]
  },
  {
   "cell_type": "code",
   "execution_count": 61,
   "id": "89c0c0e6-3646-4d4a-b13a-47b624f63d49",
   "metadata": {},
   "outputs": [
    {
     "name": "stdout",
     "output_type": "stream",
     "text": [
      "Stationary probabilities: [0.45319777 0.54680223]\n",
      "Steps to convergence: 14\n"
     ]
    }
   ],
   "source": [
    "eps =  0.0001\n",
    "n=2\n",
    "T_n_minus1 = P\n",
    "T_n = np.matmul(P,P)\n",
    "while (abs(T_n[0][0]-T_n_minus1[0][0]) > eps or abs(T_n[1][1]-T_n_minus1[1][1]) > eps):\n",
    "    T_n_minus1 = T_n\n",
    "    T_n = np.matmul(T_n_minus1,P)\n",
    "    n+=1\n",
    "print(\"Stationary probabilities:\" ,T_n[0])\n",
    "print(\"Steps to convergence:\",n)"
   ]
  },
  {
   "cell_type": "markdown",
   "id": "5eca5098-7585-4aab-ac3e-b5c6d87fc58a",
   "metadata": {},
   "source": [
    "### Examing the proportion of station [0], in hope it will fit its stationary probability"
   ]
  },
  {
   "cell_type": "code",
   "execution_count": 75,
   "id": "5dc3d082-6dbf-4471-8b19-b140446b31cb",
   "metadata": {
    "tags": []
   },
   "outputs": [
    {
     "name": "stdout",
     "output_type": "stream",
     "text": [
      "Proportion of visting 0:  0.475\n"
     ]
    }
   ],
   "source": [
    "station = 0\n",
    "count = 0\n",
    "for n in range(200):\n",
    "    i = random.uniform(0,1)\n",
    "    if (station==0):\n",
    "        if (P[0][0]>i):\n",
    "            count+=1\n",
    "        else:\n",
    "            station=1\n",
    "    else: ###stat=1\n",
    "        if(P[1][1]<i):\n",
    "            station=0\n",
    "            count+=1\n",
    "print(\"Proportion of visting 0: \",count/200)"
   ]
  },
  {
   "cell_type": "markdown",
   "id": "865f7775-f12c-4f99-8869-e1e27b54bd66",
   "metadata": {},
   "source": [
    "#### An error of 0.022... not so good"
   ]
  },
  {
   "cell_type": "markdown",
   "id": "980dc988-9e85-4ca2-bdc6-8f10b9c2cd2c",
   "metadata": {},
   "source": [
    "### Taking 1000 simulations like this"
   ]
  },
  {
   "cell_type": "code",
   "execution_count": 90,
   "id": "5dceb2b1-e9cb-4307-b886-90d3ca3ae198",
   "metadata": {},
   "outputs": [
    {
     "name": "stdout",
     "output_type": "stream",
     "text": [
      "Proportion of visting 0:  0.45231499999999963\n"
     ]
    }
   ],
   "source": [
    "arr=[]\n",
    "for j in range(1000):\n",
    "    station = 0\n",
    "    count=0\n",
    "    for n in range(200):\n",
    "        i = random.uniform(0,1)\n",
    "        if (station==0):\n",
    "            if (P[0][0]>i):\n",
    "                count+=1\n",
    "            else:\n",
    "                station=1\n",
    "        else: ###stat=1\n",
    "            if(P[1][1]<i):\n",
    "                station=0\n",
    "                count+=1\n",
    "    arr.append(count/200)\n",
    "print(\"Proportion of visting 0: \",sum(arr)/1000)"
   ]
  },
  {
   "cell_type": "code",
   "execution_count": 91,
   "id": "7fffd80a-a740-4110-a3de-144f36af54dc",
   "metadata": {},
   "outputs": [
    {
     "data": {
      "text/plain": [
       "(array([  1.,  17.,  58., 175., 174., 244., 217.,  83.,  28.,   3.]),\n",
       " array([0.38 , 0.394, 0.408, 0.422, 0.436, 0.45 , 0.464, 0.478, 0.492,\n",
       "        0.506, 0.52 ]),\n",
       " <BarContainer object of 10 artists>)"
      ]
     },
     "execution_count": 91,
     "metadata": {},
     "output_type": "execute_result"
    },
    {
     "data": {
      "image/png": "[encoded data removed]",
      "text/plain": [
       "<Figure size 640x480 with 1 Axes>"
      ]
     },
     "metadata": {},
     "output_type": "display_data"
    }
   ],
   "source": [
    "plt.hist(arr,10)"
   ]
  },
  {
   "cell_type": "markdown",
   "id": "d92c7214-79d6-4f01-822d-4710de807138",
   "metadata": {},
   "source": [
    "### Taking 5000 simulations like this"
   ]
  },
  {
   "cell_type": "code",
   "execution_count": 92,
   "id": "192c858a-83c1-4ee3-8f6e-7db3752261ee",
   "metadata": {},
   "outputs": [
    {
     "name": "stdout",
     "output_type": "stream",
     "text": [
      "Proportion of visting 0:  0.4519509999999972\n"
     ]
    }
   ],
   "source": [
    "arr=[]\n",
    "for j in range(5000):\n",
    "    station = 0\n",
    "    count=0\n",
    "    for n in range(200):\n",
    "        i = random.uniform(0,1)\n",
    "        if (station==0):\n",
    "            if (P[0][0]>i):\n",
    "                count+=1\n",
    "            else:\n",
    "                station=1\n",
    "        else: ###stat=1\n",
    "            if(P[1][1]<i):\n",
    "                station=0\n",
    "                count+=1\n",
    "    arr.append(count/200)\n",
    "print(\"Proportion of visting 0: \",sum(arr)/5000)"
   ]
  },
  {
   "cell_type": "code",
   "execution_count": 93,
   "id": "57862cde-746d-4372-b085-ec4ccf8f9e7d",
   "metadata": {},
   "outputs": [
    {
     "data": {
      "text/plain": [
       "(array([  28.,  127.,  450., 1019., 1407., 1133.,  604.,  190.,   39.,\n",
       "           3.]),\n",
       " array([0.38  , 0.3955, 0.411 , 0.4265, 0.442 , 0.4575, 0.473 , 0.4885,\n",
       "        0.504 , 0.5195, 0.535 ]),\n",
       " <BarContainer object of 10 artists>)"
      ]
     },
     "execution_count": 93,
     "metadata": {},
     "output_type": "execute_result"
    },
    {
     "data": {
      "image/png": "[encoded data removed]",
      "text/plain": [
       "<Figure size 640x480 with 1 Axes>"
      ]
     },
     "metadata": {},
     "output_type": "display_data"
    }
   ],
   "source": [
    "plt.hist(arr,10)"
   ]
  },
  {
   "cell_type": "markdown",
   "id": "cbcc31f0-16d7-4eba-b36a-6d3a673b61ff",
   "metadata": {},
   "source": [
    "### Actually we got a proof for CLT (Central limit theorem)"
   ]
  }
 ],
 "metadata": {
  "kernelspec": {
   "display_name": "Python 3 (ipykernel)",
   "language": "python",
   "name": "python3"
  },
  "language_info": {
   "codemirror_mode": {
    "name": "ipython",
    "version": 3
   },
   "file_extension": ".py",
   "mimetype": "text/x-python",
   "name": "python",
   "nbconvert_exporter": "python",
   "pygments_lexer": "ipython3",
   "version": "3.9.13"
  }
 },
 "nbformat": 4,
 "nbformat_minor": 5
}
